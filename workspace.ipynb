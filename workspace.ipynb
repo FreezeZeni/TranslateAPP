{
 "cells": [
  {
   "cell_type": "code",
   "execution_count": null,
   "metadata": {},
   "outputs": [],
   "source": [
    "import keyboard\n",
    "import sys\n",
    "from datetime import datetime\n",
    "\n",
    "def on_key_event(event):\n",
    "    if event.event_type == 'down':\n",
    "        timestamp = datetime.now().strftime('%H:%M:%S')\n",
    "        print(f'[{timestamp}] Нажата клавиша: {event.name}')\n",
    "\n",
    "    if event.name == 'esc':\n",
    "        print('\\nПрограмма завершена')\n",
    "        sys.exit()\n",
    "\n",
    "def main():\n",
    "    print('Программа запущена. Нажимайте клавиши...')\n",
    "    print('Для выхода нажмите Esc\\n')\n",
    "\n",
    "    keyboard.hook(on_key_event)\n",
    "\n",
    "    keyboard.wait()\n",
    "\n",
    "if __name__ == '__main__':\n",
    "    main()"
   ]
  }
 ],
 "metadata": {
  "kernelspec": {
   "display_name": "Python 3",
   "language": "python",
   "name": "python3"
  },
  "language_info": {
   "codemirror_mode": {
    "name": "ipython",
    "version": 3
   },
   "file_extension": ".py",
   "mimetype": "text/x-python",
   "name": "python",
   "nbconvert_exporter": "python",
   "pygments_lexer": "ipython3",
   "version": "3.13.1"
  }
 },
 "nbformat": 4,
 "nbformat_minor": 2
}
